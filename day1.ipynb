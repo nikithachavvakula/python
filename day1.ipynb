{
 "cells": [
  {
   "cell_type": "code",
   "execution_count": 1,
   "id": "c651f966-d883-4f93-a044-93930408ec93",
   "metadata": {},
   "outputs": [
    {
     "name": "stdout",
     "output_type": "stream",
     "text": [
      "Integer Value: 10  - Type: <class 'int'>\n",
      "Float Value: 3.14  - Type: <class 'float'>\n",
      "String Value: Hello  - Type: <class 'str'>\n",
      "Boolean Value: True  - Type: <class 'bool'>\n"
     ]
    }
   ],
   "source": [
    "# Declaring variables of different data types\n",
    "integer_var = 10        # Integer\n",
    "float_var = 3.14        # Float\n",
    "string_var = \"Hello\"    # String\n",
    "boolean_var = True      # Boolean\n",
    "\n",
    "# Printing variables and their types\n",
    "print(\"Integer Value:\", integer_var, \" - Type:\", type(integer_var))\n",
    "print(\"Float Value:\", float_var, \" - Type:\", type(float_var))\n",
    "print(\"String Value:\", string_var, \" - Type:\", type(string_var))\n",
    "print(\"Boolean Value:\", boolean_var, \" - Type:\", type(boolean_var))\n"
   ]
  },
  {
   "cell_type": "code",
   "execution_count": null,
   "id": "63ab11f3-2aa1-4fc0-8465-7a228c03d2f7",
   "metadata": {},
   "outputs": [],
   "source": []
  }
 ],
 "metadata": {
  "kernelspec": {
   "display_name": "Python [conda env:base] *",
   "language": "python",
   "name": "conda-base-py"
  },
  "language_info": {
   "codemirror_mode": {
    "name": "ipython",
    "version": 3
   },
   "file_extension": ".py",
   "mimetype": "text/x-python",
   "name": "python",
   "nbconvert_exporter": "python",
   "pygments_lexer": "ipython3",
   "version": "3.12.7"
  }
 },
 "nbformat": 4,
 "nbformat_minor": 5
}
