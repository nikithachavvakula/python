{
 "cells": [
  {
   "cell_type": "code",
   "execution_count": null,
   "id": "c34bf767-3dbd-4bc6-b78b-d0d8cd3abf52",
   "metadata": {},
   "outputs": [],
   "source": []
  }
 ],
 "metadata": {
  "kernelspec": {
   "display_name": "",
   "name": ""
  },
  "language_info": {
   "name": ""
  }
 },
 "nbformat": 4,
 "nbformat_minor": 5
}
