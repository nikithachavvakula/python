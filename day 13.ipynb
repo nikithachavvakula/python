{
 "cells": [
  {
   "cell_type": "code",
   "execution_count": null,
   "id": "593e8069-7fd7-45b3-ac20-51726872ac89",
   "metadata": {},
   "outputs": [],
   "source": []
  }
 ],
 "metadata": {
  "kernelspec": {
   "display_name": "",
   "name": ""
  },
  "language_info": {
   "name": ""
  }
 },
 "nbformat": 4,
 "nbformat_minor": 5
}
